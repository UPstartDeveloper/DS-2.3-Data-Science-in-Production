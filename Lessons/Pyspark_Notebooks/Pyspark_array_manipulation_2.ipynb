{
 "cells": [
  {
   "cell_type": "code",
   "execution_count": 1,
   "metadata": {},
   "outputs": [
    {
     "name": "stdout",
     "output_type": "stream",
     "text": [
      "70709.97100833799\n"
     ]
    }
   ],
   "source": [
    "import math\n",
    "from pyspark import SparkContext\n",
    "sc = SparkContext()\n"
   ]
  },
  {
   "cell_type": "code",
   "execution_count": 2,
   "metadata": {},
   "outputs": [
    {
     "name": "stdout",
     "output_type": "stream",
     "text": [
      "70709.97100833799\n"
     ]
    }
   ],
   "source": [
    "# make an RDD\n",
    "nums = sc.parallelize(range(100_000), numSlices=100)\n",
    "# square all the values\n",
    "doubled = nums.map(lambda n: n*2)\n",
    "# filter and double\n",
    "total = doubled.filter(lambda n: n%4==0).reduce(lambda a,b: a+b)\n",
    "print(math.sqrt(total))"
   ]
  },
  {
   "cell_type": "markdown",
   "metadata": {},
   "source": [
    "## Converting from Pyspark to conventional Python function\n",
    "\n",
    "Keep in mind, the Pyspark way and map reduce ways are still faster on large datasets!"
   ]
  },
  {
   "cell_type": "code",
   "execution_count": 9,
   "metadata": {},
   "outputs": [
    {
     "data": {
      "text/plain": [
       "70709.97100833799"
      ]
     },
     "execution_count": 9,
     "metadata": {},
     "output_type": "execute_result"
    }
   ],
   "source": [
    "def big_sum(ls):\n",
    "    '''Same as above, example 1'''\n",
    "    ls = [x*2 for x in ls if (x*2)%4 == 0]\n",
    "    summation = sum(ls)\n",
    "    return math.sqrt(summation)\n",
    "\n",
    "big_sum(range(100_000))"
   ]
  },
  {
   "cell_type": "code",
   "execution_count": 10,
   "metadata": {},
   "outputs": [
    {
     "name": "stdout",
     "output_type": "stream",
     "text": [
      "70709.97100833799\n"
     ]
    }
   ],
   "source": [
    "def f(ls):\n",
    "    '''same as above, example 2'''\n",
    "    s = 0\n",
    "    for i in ls:\n",
    "        # only the values whose square is divisible by 4, gets added\n",
    "        if (i*2)%4 == 0:\n",
    "            s += (i*2)\n",
    "    return math.sqrt(s)\n",
    "    \n",
    "    \n",
    "print(f(range(100000)))"
   ]
  },
  {
   "cell_type": "markdown",
   "metadata": {},
   "source": [
    "### Difference Between map and flatmap"
   ]
  },
  {
   "cell_type": "code",
   "execution_count": 11,
   "metadata": {},
   "outputs": [
    {
     "name": "stdout",
     "output_type": "stream",
     "text": [
      "[range(0, 1), range(0, 2), range(0, 3), range(0, 4)]\n",
      "[0, 0, 1, 0, 1, 2, 0, 1, 2, 3]\n"
     ]
    }
   ],
   "source": [
    "values = sc.parallelize([1, 2, 3, 4], 2)\n",
    "print(values.map(range).collect())  # ranges an RDD as a 2D list, and in this case what goes in each is a range object, after each value in original is given to the range function\n",
    "# [[0], [0, 1], [0, 1, 2], [0, 1, 2, 3]]\n",
    "print(values.flatMap(range).collect())  # flattens the data to a 1D list\n",
    "# [0, 0, 1, 0, 1, 2, 0, 1, 2, 3]"
   ]
  },
  {
   "cell_type": "code",
   "execution_count": null,
   "metadata": {},
   "outputs": [],
   "source": []
  }
 ],
 "metadata": {
  "kernelspec": {
   "display_name": "Python 3",
   "language": "python",
   "name": "python3"
  },
  "language_info": {
   "codemirror_mode": {
    "name": "ipython",
    "version": 3
   },
   "file_extension": ".py",
   "mimetype": "text/x-python",
   "name": "python",
   "nbconvert_exporter": "python",
   "pygments_lexer": "ipython3",
   "version": "3.7.6"
  }
 },
 "nbformat": 4,
 "nbformat_minor": 2
}
