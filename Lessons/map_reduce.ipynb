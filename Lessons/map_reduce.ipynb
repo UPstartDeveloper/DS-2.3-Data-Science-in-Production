{
 "cells": [
  {
   "cell_type": "markdown",
   "metadata": {},
   "source": [
    "## Map-Reduce\n",
    "\n",
    "- map(func, list) - apply the same function to every element of a list. Returns modified list. Output can be casted as a list, to see the whole thing\n",
    "- returns a generator\n",
    "- Lets watch this video: https://www.youtube.com/watch?v=cKlnR-CB3tk&t=137s\n",
    "- if a dict is passed in, the map fucntion will iterate over the sequence of dict items\n",
    "\n",
    "\n",
    "- filter(condition, list) --> new list of only the items that meet the condition\n",
    "- the condition can be computed using a lambda function\n",
    "\n",
    "\n",
    "\n",
    "- reduce - FOR PAIRS\n",
    "- applies the same operation to each elem in as list\n",
    "- uses result of a single operation, as first param for next operation\n",
    "- result --> result of applying the function to every pair of numbers in the list\n",
    "- will return that element, not the list just containing that one element\n",
    "\n",
    "Reduce example:\n",
    "\n",
    "```\n",
    "ls = [m, n, p, q]\n",
    "f = lambda x, y: x - y\n",
    "\n",
    "res = reduce(f, ls)\n",
    "\n",
    "res = [r = f(m, n), p, q]\n",
    "res = [s = f(r, p), q]\n",
    "res = [t = f(s, q)]\n",
    "res = t = m - n - p - q\n",
    "\n",
    "```"
   ]
  },
  {
   "cell_type": "code",
   "execution_count": 3,
   "metadata": {},
   "outputs": [
    {
     "name": "stdout",
     "output_type": "stream",
     "text": [
      "25\n"
     ]
    }
   ],
   "source": [
    "f = lambda x: x * x\n",
    "\n",
    "# def f(x):\n",
    "#     return x * x\n",
    "\n",
    "print(f(5))"
   ]
  },
  {
   "cell_type": "code",
   "execution_count": 6,
   "metadata": {},
   "outputs": [
    {
     "data": {
      "text/plain": [
       "0"
      ]
     },
     "execution_count": 6,
     "metadata": {},
     "output_type": "execute_result"
    }
   ],
   "source": [
    "# example from above\n",
    "from functools import reduce\n",
    "\n",
    "\n",
    "ls = [5, 2, 3, 0]\n",
    "f = lambda x, y: x - y\n",
    "\n",
    "res = reduce(f, ls)\n",
    "\n",
    "res"
   ]
  },
  {
   "cell_type": "code",
   "execution_count": 17,
   "metadata": {},
   "outputs": [],
   "source": [
    "# Calculating MSE using map and reduce\n",
    "y_true = [-52, -54, -31, -16]\n",
    "y_pred = [-38.25, -38.25, -38.25, -38.25]\n",
    "mse = list(map((lambda pair:(pair[0] - pair[1])**2), zip(y_true, y_pred)))\n",
    "summation = reduce(lambda x, y: x + y, mse)\n",
    "result = summation / len(y_true)\n",
    "result"
   ]
  },
  {
   "cell_type": "markdown",
   "metadata": {},
   "source": [
    "## Why use Map() and Reduce()? Doesn't It Violate \"Simpler > Complex\"? 🤔\n",
    "\n",
    "```\n",
    "map(func, list) \n",
    "\n",
    "ls = [m, n, p, q]\n",
    "f = lambda x, y: x - y\n",
    "\n",
    "res = reduce(f, ls)\n",
    "\n",
    "res = [r = f(m, n), p, q]\n",
    "res = [s = f(r, p), q]\n",
    "res = [t = f(s, q)]\n",
    "res = t = m - n - p - q\n",
    "```\n",
    "\n",
    "Faster time!\n",
    "\n",
    "The CPU can run the operations in parallel, because the elements in the output list can be computed simulataneously (because their results are independent of each other, the inputs are different and in different locations\n",
    "\n",
    "This way we can move faster through our data, as long as the has multiple CORES which it can distribute (aka \"partition\") its computation across as it calculates the elements for the output list.\n",
    "\n",
    "These functions can come in handy especially for certain DS/ML functions, which require lots of computation involving iterations - because it will help you more efficiently allocate resources!"
   ]
  },
  {
   "cell_type": "markdown",
   "metadata": {},
   "source": [
    "## Using Map-Reduce to Create a Histogram of Word Type Frequency"
   ]
  },
  {
   "cell_type": "code",
   "execution_count": 56,
   "metadata": {},
   "outputs": [],
   "source": [
    "words = ['Deer', 'Bear', 'River', 'Car', 'Car', 'River', 'Deer', 'Car', 'Bear']\n",
    "\n",
    "mapping = list(map(lambda x: {x: 1}, words))"
   ]
  },
  {
   "cell_type": "code",
   "execution_count": 54,
   "metadata": {},
   "outputs": [
    {
     "name": "stdout",
     "output_type": "stream",
     "text": [
      "{'Deer': 1}\n",
      "{'Bear': 1}\n",
      "{'River': 1}\n",
      "{'Car': 1}\n",
      "{'Car': 1}\n",
      "{'River': 1}\n",
      "{'Deer': 1}\n",
      "{'Car': 1}\n",
      "{'Bear': 1}\n"
     ]
    }
   ],
   "source": [
    "for item in mapping:\n",
    "    print(item)"
   ]
  },
  {
   "cell_type": "code",
   "execution_count": 57,
   "metadata": {},
   "outputs": [
    {
     "ename": "TypeError",
     "evalue": "unhashable type: 'dict'",
     "output_type": "error",
     "traceback": [
      "\u001b[0;31m---------------------------------------------------------------------------\u001b[0m",
      "\u001b[0;31mTypeError\u001b[0m                                 Traceback (most recent call last)",
      "\u001b[0;32m<ipython-input-57-b516dd93c050>\u001b[0m in \u001b[0;36m<module>\u001b[0;34m\u001b[0m\n\u001b[1;32m      9\u001b[0m     \u001b[0;32mreturn\u001b[0m \u001b[0mkey_val1\u001b[0m\u001b[0;34m\u001b[0m\u001b[0;34m\u001b[0m\u001b[0m\n\u001b[1;32m     10\u001b[0m \u001b[0;34m\u001b[0m\u001b[0m\n\u001b[0;32m---> 11\u001b[0;31m \u001b[0mhistogram\u001b[0m \u001b[0;34m=\u001b[0m \u001b[0mreduce\u001b[0m\u001b[0;34m(\u001b[0m\u001b[0mincrement_word_count\u001b[0m\u001b[0;34m,\u001b[0m \u001b[0mmapping\u001b[0m\u001b[0;34m)\u001b[0m\u001b[0;34m\u001b[0m\u001b[0;34m\u001b[0m\u001b[0m\n\u001b[0m",
      "\u001b[0;32m<ipython-input-57-b516dd93c050>\u001b[0m in \u001b[0;36mincrement_word_count\u001b[0;34m(key_val1, key_val2)\u001b[0m\n\u001b[1;32m      1\u001b[0m \u001b[0;32mdef\u001b[0m \u001b[0mincrement_word_count\u001b[0m\u001b[0;34m(\u001b[0m\u001b[0mkey_val1\u001b[0m\u001b[0;34m,\u001b[0m \u001b[0mkey_val2\u001b[0m\u001b[0;34m)\u001b[0m\u001b[0;34m:\u001b[0m\u001b[0;34m\u001b[0m\u001b[0;34m\u001b[0m\u001b[0m\n\u001b[1;32m      2\u001b[0m     \u001b[0mkey1\u001b[0m\u001b[0;34m,\u001b[0m \u001b[0mkey2\u001b[0m \u001b[0;34m=\u001b[0m \u001b[0mkey_val1\u001b[0m\u001b[0;34m,\u001b[0m \u001b[0mkey_val2\u001b[0m\u001b[0;34m\u001b[0m\u001b[0;34m\u001b[0m\u001b[0m\n\u001b[0;32m----> 3\u001b[0;31m     \u001b[0mval1\u001b[0m\u001b[0;34m,\u001b[0m \u001b[0mval2\u001b[0m \u001b[0;34m=\u001b[0m \u001b[0mkey_val1\u001b[0m\u001b[0;34m[\u001b[0m\u001b[0mkey1\u001b[0m\u001b[0;34m]\u001b[0m\u001b[0;34m,\u001b[0m \u001b[0mkey_val2\u001b[0m\u001b[0;34m[\u001b[0m\u001b[0mkey2\u001b[0m\u001b[0;34m]\u001b[0m\u001b[0;34m\u001b[0m\u001b[0;34m\u001b[0m\u001b[0m\n\u001b[0m\u001b[1;32m      4\u001b[0m     \u001b[0;32mif\u001b[0m \u001b[0mkey1\u001b[0m \u001b[0;34m==\u001b[0m \u001b[0mkey2\u001b[0m\u001b[0;34m:\u001b[0m\u001b[0;34m\u001b[0m\u001b[0;34m\u001b[0m\u001b[0m\n\u001b[1;32m      5\u001b[0m         \u001b[0mval1\u001b[0m \u001b[0;34m+=\u001b[0m \u001b[0;36m1\u001b[0m\u001b[0;34m\u001b[0m\u001b[0;34m\u001b[0m\u001b[0m\n",
      "\u001b[0;31mTypeError\u001b[0m: unhashable type: 'dict'"
     ]
    }
   ],
   "source": [
    "def increment_word_count(key_val1, key_val2):\n",
    "    key1, key2 = key_val1, key_val2\n",
    "    val1, val2 = key_val1[key1], key_val2[key2]\n",
    "    if key1 == key2:\n",
    "        val1 += 1\n",
    "        key_val1[key1] = val1\n",
    "    else:\n",
    "         key_val1[key2] = val2\n",
    "    return key_val1\n",
    "        \n",
    "histogram = reduce(increment_word_count, mapping)"
   ]
  },
  {
   "cell_type": "code",
   "execution_count": 61,
   "metadata": {},
   "outputs": [
    {
     "data": {
      "text/plain": [
       "{'Deer': 2, 'Bear': 2, 'River': 2, 'Car': 3}"
      ]
     },
     "execution_count": 61,
     "metadata": {},
     "output_type": "execute_result"
    }
   ],
   "source": [
    "from collections import Counter\n",
    "\n",
    "words = ['Deer', 'Bear', 'River', 'Car', 'Car', 'River', 'Deer', 'Car', 'Bear']\n",
    "histogram = Counter(words)\n",
    "dict(histogram)"
   ]
  },
  {
   "cell_type": "code",
   "execution_count": 64,
   "metadata": {},
   "outputs": [
    {
     "data": {
      "text/plain": [
       "{'Deer': 2, 'Bear': 2, 'River': 2, 'Car': 3}"
      ]
     },
     "execution_count": 64,
     "metadata": {},
     "output_type": "execute_result"
    }
   ],
   "source": [
    "# Map reduce technique\n",
    "\n",
    "words = ['Deer', 'Bear', 'River', 'Car', 'Car', 'River', 'Deer', 'Car', 'Bear']\n",
    "mapping = list(map(lambda x: {x: 1}, words))\n",
    "\n",
    "def func(x, y):\n",
    "    return dict(Counter(x) + Counter(y))\n",
    "\n",
    "histogram = reduce(func, mapping)\n",
    "histogram"
   ]
  },
  {
   "cell_type": "markdown",
   "metadata": {},
   "source": [
    "# Lambda\n",
    "\n",
    "- simple 1 line\n",
    "- uses lambda keyword\n",
    "- def and return are implict\n",
    "- can take up to 2 args"
   ]
  },
  {
   "cell_type": "markdown",
   "metadata": {},
   "source": [
    "## Two ways to apply a function to the elements of a list"
   ]
  },
  {
   "cell_type": "code",
   "execution_count": 6,
   "metadata": {},
   "outputs": [
    {
     "name": "stdout",
     "output_type": "stream",
     "text": [
      "[1, 4, 9, 16, 25, 36]\n",
      "[1, 4, 9, 16, 25, 36]\n"
     ]
    }
   ],
   "source": [
    "nums = [1, 2, 3, 4, 5, 6]\n",
    "nums_squared = list(map(lambda x: x * x, nums))\n",
    "print(nums_squared)\n",
    "\n",
    "nums_squared = [x * x for x in nums] \n",
    "print(nums_squared)"
   ]
  },
  {
   "cell_type": "code",
   "execution_count": 2,
   "metadata": {},
   "outputs": [
    {
     "name": "stdout",
     "output_type": "stream",
     "text": [
      "('Deer', 1)\n",
      "('Bear', 1)\n",
      "('River', 1)\n",
      "('Car', 1)\n",
      "('Car', 1)\n",
      "('River', 1)\n",
      "('Deer', 1)\n",
      "('Car', 1)\n",
      "('Bear', 1)\n"
     ]
    }
   ],
   "source": [
    "words = ['Deer', 'Bear', 'River', 'Car', 'Car', 'River', 'Deer', 'Car', 'Bear']\n",
    "\n",
    "mapping = map(lambda x : (x, 1), words)\n",
    "\n",
    "for i in mapping:\n",
    "    print(i)"
   ]
  },
  {
   "cell_type": "code",
   "execution_count": 4,
   "metadata": {},
   "outputs": [],
   "source": [
    "for i in mapping:\n",
    "    print(i)"
   ]
  },
  {
   "cell_type": "code",
   "execution_count": 11,
   "metadata": {},
   "outputs": [
    {
     "name": "stdout",
     "output_type": "stream",
     "text": [
      "{'Deer': 1}\n",
      "{'Bear': 1}\n",
      "{'River': 1}\n",
      "{'Car': 1}\n",
      "{'Car': 1}\n",
      "{'River': 1}\n",
      "{'Deer': 1}\n",
      "{'Car': 1}\n",
      "{'Bear': 1}\n"
     ]
    }
   ],
   "source": [
    "mapping = map(lambda x : {x: 1}, words)\n",
    "\n",
    "for i in mapping:\n",
    "    print(i)"
   ]
  },
  {
   "cell_type": "markdown",
   "metadata": {},
   "source": [
    "## It is somehow similar to generator unless we do list(map())"
   ]
  },
  {
   "cell_type": "code",
   "execution_count": 7,
   "metadata": {},
   "outputs": [
    {
     "data": {
      "text/plain": [
       "[{'t': 1},\n",
       " {'e': 1},\n",
       " {'s': 1},\n",
       " {'t': 1},\n",
       " {'i': 1},\n",
       " {'n': 1},\n",
       " {'g': 1},\n",
       " {' ': 1},\n",
       " {'y': 1},\n",
       " {'e': 1},\n",
       " {'a': 1},\n",
       " {'h': 1},\n",
       " {' ': 1},\n",
       " {'i': 1},\n",
       " {'t': 1},\n",
       " {' ': 1},\n",
       " {'w': 1},\n",
       " {'o': 1},\n",
       " {'r': 1},\n",
       " {'k': 1},\n",
       " {'s': 1}]"
      ]
     },
     "execution_count": 7,
     "metadata": {},
     "output_type": "execute_result"
    }
   ],
   "source": [
    "n = list(map(lambda char: dict([[char, 1]]), 'testing yeah it works'))\n",
    "n"
   ]
  },
  {
   "cell_type": "markdown",
   "metadata": {},
   "source": [
    "## Reduce"
   ]
  },
  {
   "cell_type": "code",
   "execution_count": 3,
   "metadata": {},
   "outputs": [
    {
     "name": "stdout",
     "output_type": "stream",
     "text": [
      "{3}\n"
     ]
    }
   ],
   "source": [
    "from functools import reduce\n",
    "\n",
    "print(reduce(lambda x, y: x & y, [{1, 2, 3}, {2, 3, 4}, {3, 4, 5}]))\n",
    "\n",
    "# & = intersection operator, when given two sets as operands"
   ]
  },
  {
   "cell_type": "code",
   "execution_count": 7,
   "metadata": {},
   "outputs": [
    {
     "name": "stdout",
     "output_type": "stream",
     "text": [
      "7\n"
     ]
    }
   ],
   "source": [
    "print(reduce(lambda x, y: x + y, [1, 2, 4]))\n",
    "\n",
    "# [1, 2, 4]\n",
    "# [3, 4]\n",
    "# 7"
   ]
  },
  {
   "cell_type": "markdown",
   "metadata": {},
   "source": [
    "## Count how many words do we have in a list\n",
    "\n",
    "What if you had to do this on a dataset of 1 billion words?\n",
    "\n",
    "Using functions like `map()` and `reduce()` will serve you well here!"
   ]
  },
  {
   "cell_type": "code",
   "execution_count": 8,
   "metadata": {},
   "outputs": [
    {
     "data": {
      "text/plain": [
       "{'Deer': 2, 'Bear': 2, 'River': 2, 'Car': 3}"
      ]
     },
     "execution_count": 8,
     "metadata": {},
     "output_type": "execute_result"
    }
   ],
   "source": [
    "from collections import Counter\n",
    "\n",
    "words = ['Deer', 'Bear', 'River', 'Car', 'Car', 'River', 'Deer', 'Car', 'Bear']\n",
    "\n",
    "mapping = map(lambda x : {x: 1}, words)\n",
    "\n",
    "def fn(x, y):\n",
    "    return dict(Counter(x) + Counter(y))\n",
    "\n",
    "reduce(fn, mapping)"
   ]
  },
  {
   "cell_type": "code",
   "execution_count": 65,
   "metadata": {},
   "outputs": [
    {
     "ename": "AttributeError",
     "evalue": "'set' object has no attribute 'get'",
     "output_type": "error",
     "traceback": [
      "\u001b[0;31m---------------------------------------------------------------------------\u001b[0m",
      "\u001b[0;31mAttributeError\u001b[0m                            Traceback (most recent call last)",
      "\u001b[0;32m<ipython-input-65-d919fe3c2762>\u001b[0m in \u001b[0;36m<module>\u001b[0;34m\u001b[0m\n\u001b[1;32m      6\u001b[0m \u001b[0;34m\u001b[0m\u001b[0m\n\u001b[1;32m      7\u001b[0m \u001b[0mmapping\u001b[0m \u001b[0;34m=\u001b[0m \u001b[0mmap\u001b[0m\u001b[0;34m(\u001b[0m\u001b[0;32mlambda\u001b[0m \u001b[0mx\u001b[0m\u001b[0;34m:\u001b[0m \u001b[0;34m{\u001b[0m\u001b[0mx\u001b[0m\u001b[0;34m,\u001b[0m \u001b[0;36m1\u001b[0m\u001b[0;34m}\u001b[0m\u001b[0;34m,\u001b[0m \u001b[0mwords\u001b[0m\u001b[0;34m)\u001b[0m\u001b[0;34m\u001b[0m\u001b[0;34m\u001b[0m\u001b[0m\n\u001b[0;32m----> 8\u001b[0;31m \u001b[0mreduce\u001b[0m\u001b[0;34m(\u001b[0m\u001b[0mfn_reducer\u001b[0m\u001b[0;34m,\u001b[0m \u001b[0mmapping\u001b[0m\u001b[0;34m)\u001b[0m\u001b[0;34m\u001b[0m\u001b[0;34m\u001b[0m\u001b[0m\n\u001b[0m",
      "\u001b[0;32m<ipython-input-65-d919fe3c2762>\u001b[0m in \u001b[0;36mfn_reducer\u001b[0;34m(i, j)\u001b[0m\n\u001b[1;32m      2\u001b[0m     \u001b[0;34m'''Same as above, without using Counter'''\u001b[0m\u001b[0;34m\u001b[0m\u001b[0;34m\u001b[0m\u001b[0m\n\u001b[1;32m      3\u001b[0m     \u001b[0;32mfor\u001b[0m \u001b[0mk\u001b[0m \u001b[0;32min\u001b[0m \u001b[0mj\u001b[0m\u001b[0;34m:\u001b[0m\u001b[0;34m\u001b[0m\u001b[0;34m\u001b[0m\u001b[0m\n\u001b[0;32m----> 4\u001b[0;31m         \u001b[0mi\u001b[0m\u001b[0;34m[\u001b[0m\u001b[0mk\u001b[0m\u001b[0;34m]\u001b[0m \u001b[0;34m=\u001b[0m \u001b[0mi\u001b[0m\u001b[0;34m.\u001b[0m\u001b[0mget\u001b[0m\u001b[0;34m(\u001b[0m\u001b[0mk\u001b[0m\u001b[0;34m,\u001b[0m \u001b[0;36m0\u001b[0m\u001b[0;34m)\u001b[0m \u001b[0;34m+\u001b[0m \u001b[0mj\u001b[0m\u001b[0;34m.\u001b[0m\u001b[0mget\u001b[0m\u001b[0;34m(\u001b[0m\u001b[0mk\u001b[0m\u001b[0;34m,\u001b[0m \u001b[0;36m0\u001b[0m\u001b[0;34m)\u001b[0m\u001b[0;34m\u001b[0m\u001b[0;34m\u001b[0m\u001b[0m\n\u001b[0m\u001b[1;32m      5\u001b[0m     \u001b[0;32mreturn\u001b[0m \u001b[0mi\u001b[0m\u001b[0;34m\u001b[0m\u001b[0;34m\u001b[0m\u001b[0m\n\u001b[1;32m      6\u001b[0m \u001b[0;34m\u001b[0m\u001b[0m\n",
      "\u001b[0;31mAttributeError\u001b[0m: 'set' object has no attribute 'get'"
     ]
    }
   ],
   "source": [
    "def fn_reducer(i, j):\n",
    "    '''Same as above, without using Counter'''\n",
    "    for k in j:\n",
    "        i[k] = i.get(k, 0) + j.get(k, 0)\n",
    "    return i\n",
    "\n",
    "mapping = map(lambda x: {x, 1}, words)\n",
    "reduce(fn_reducer, mapping)"
   ]
  },
  {
   "cell_type": "code",
   "execution_count": 21,
   "metadata": {},
   "outputs": [
    {
     "data": {
      "text/plain": [
       "{'a': 2, 'b': 1}"
      ]
     },
     "execution_count": 21,
     "metadata": {},
     "output_type": "execute_result"
    }
   ],
   "source": [
    "reduce(fn, [{'a': 1}, {'a': 1}, {'b': 1}])"
   ]
  },
  {
   "cell_type": "code",
   "execution_count": 16,
   "metadata": {},
   "outputs": [
    {
     "data": {
      "text/plain": [
       "Counter({'a': 2})"
      ]
     },
     "execution_count": 16,
     "metadata": {},
     "output_type": "execute_result"
    }
   ],
   "source": [
    "Counter({'a': 1}) + Counter({'a': 1})"
   ]
  },
  {
   "cell_type": "code",
   "execution_count": 12,
   "metadata": {},
   "outputs": [
    {
     "name": "stdout",
     "output_type": "stream",
     "text": [
      "{'a': 2}\n"
     ]
    }
   ],
   "source": [
    "print(fn({'a': 1},  {'a': 1}))"
   ]
  },
  {
   "cell_type": "code",
   "execution_count": 13,
   "metadata": {},
   "outputs": [
    {
     "name": "stdout",
     "output_type": "stream",
     "text": [
      "{'a': 1, 'b': 1}\n"
     ]
    }
   ],
   "source": [
    "print(fn({'a': 1},  {'b': 1}))"
   ]
  },
  {
   "cell_type": "markdown",
   "metadata": {},
   "source": [
    "## *arg"
   ]
  },
  {
   "cell_type": "code",
   "execution_count": 1,
   "metadata": {},
   "outputs": [
    {
     "name": "stdout",
     "output_type": "stream",
     "text": [
      "['a']\n"
     ]
    }
   ],
   "source": [
    "def intersection(*arg):\n",
    "    result = set(arg[0])\n",
    "    for i in range(1,len(arg)):\n",
    "        result = result & set(arg[i]) \n",
    "    return list(result)\n",
    "  \n",
    "print(intersection(['a', 'b'], ['a', 'c'], ['a', 'b']))"
   ]
  },
  {
   "cell_type": "markdown",
   "metadata": {},
   "source": [
    "# Up Next\n",
    "\n",
    "Soon we're going to cover PySpark, one of the premier platforms for Big Data.\n",
    "So why is knowing about `map()` and `reduce()` useful?\n",
    "\n",
    "Because these functions form the basis for all the functionality in PySpark!"
   ]
  },
  {
   "cell_type": "code",
   "execution_count": null,
   "metadata": {},
   "outputs": [],
   "source": []
  }
 ],
 "metadata": {
  "kernelspec": {
   "display_name": "Python 3",
   "language": "python",
   "name": "python3"
  },
  "language_info": {
   "codemirror_mode": {
    "name": "ipython",
    "version": 3
   },
   "file_extension": ".py",
   "mimetype": "text/x-python",
   "name": "python",
   "nbconvert_exporter": "python",
   "pygments_lexer": "ipython3",
   "version": "3.7.6"
  }
 },
 "nbformat": 4,
 "nbformat_minor": 2
}
